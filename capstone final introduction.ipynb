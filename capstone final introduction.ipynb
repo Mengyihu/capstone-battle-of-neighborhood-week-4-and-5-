{
 "cells": [
  {
   "cell_type": "markdown",
   "metadata": {},
   "source": [
    "Project Title: **Which location to open a health food store?**"
   ]
  },
  {
   "cell_type": "markdown",
   "metadata": {},
   "source": [
    "**Introduction**: As people are paying increasing attention to their health. There is an increasing demand in health food,whole food and superfood. Finding the proper location to open a health food store is important for business success. This assignment help to solve this problem by using Foursquare venue data in the city of Toronto. \n",
    "Each neighborhood will be explored. The top 3 frequent venues will be selected and analyzed to find out which location is proper to open a health food store."
   ]
  },
  {
   "cell_type": "markdown",
   "metadata": {},
   "source": [
    "**Data**:\n",
    "City of Toronto borough, neighborhood, postal codes were collected from \"https://en.wikipedia.org/wiki/List_of_postal_codes_of_Canada:_M\".\n",
    "Venues data of Toronto was collected using Foursquare.\n",
    "Toronto neighborhoods population size were collected from \"https://en.wikipedia.org/wiki/Demographics_of_Toronto_neighbourhoods\"\n",
    "\n",
    "The 1st, 2nd and 3rd most common venues in each neighborhood will be listed to find out the which neighborhood has a low frequency in health food store. Toronto neighborhood population will also be used to indicate with neighborhood has a relatively high demand in health food store. The frequency of fitness centers, gyms and yoga studio will also be discussed. A higher frequency in these wellness facilities shows that the neighborhood has a higher demand in health food store."
   ]
  },
  {
   "cell_type": "code",
   "execution_count": null,
   "metadata": {},
   "outputs": [],
   "source": []
  }
 ],
 "metadata": {
  "kernelspec": {
   "display_name": "Python",
   "language": "python",
   "name": "conda-env-python-py"
  },
  "language_info": {
   "codemirror_mode": {
    "name": "ipython",
    "version": 3
   },
   "file_extension": ".py",
   "mimetype": "text/x-python",
   "name": "python",
   "nbconvert_exporter": "python",
   "pygments_lexer": "ipython3",
   "version": "3.6.7"
  }
 },
 "nbformat": 4,
 "nbformat_minor": 4
}
